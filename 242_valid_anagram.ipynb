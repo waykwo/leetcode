{
 "cells": [
  {
   "cell_type": "markdown",
   "metadata": {},
   "source": [
    "Given two strings s and t, return true if t is an anagram of s, and false otherwise.\n",
    "\n",
    "Example 1:\n",
    "\n",
    "Input: s = \"anagram\", t = \"nagaram\"\n",
    "\n",
    "Output: true\n",
    "\n",
    "Example 2:\n",
    "\n",
    "Input: s = \"rat\", t = \"car\"\n",
    "\n",
    "Output: false\n",
    "\n",
    " \n",
    "\n",
    "Constraints:\n",
    "\n",
    "1 <= s.length, t.length <= 5 * 104\n",
    "s and t consist of lowercase English letters.\n",
    " \n",
    "\n",
    "Follow up: What if the inputs contain Unicode characters? How would you adapt your solution to such a case?"
   ]
  },
  {
   "cell_type": "code",
   "execution_count": 7,
   "metadata": {},
   "outputs": [
    {
     "name": "stdout",
     "output_type": "stream",
     "text": [
      "{'a': 3, 'n': 1, 'g': 1, 'r': 1, 'm': 1}\n",
      "{'n': 1, 'a': 3, 'g': 1, 'r': 1, 'm': 1}\n",
      "True\n"
     ]
    }
   ],
   "source": [
    "# It's not just where a letter in s is in t; need the count to match too\n",
    "# For each letter in s, get the count, then check whether it's in t and has the same count\n",
    "# Maybe use a dictionary to get the count\n",
    "\n",
    "s_dict = {}\n",
    "t_dict = {}\n",
    "\n",
    "def isAnagram(s: str, t: str) -> bool:\n",
    "    for letter in s:\n",
    "        if letter in s_dict:\n",
    "            s_dict[letter] += 1\n",
    "        else:\n",
    "            s_dict[letter] = 1\n",
    "    print(s_dict)\n",
    "\n",
    "    for letter in t:\n",
    "        if letter in t_dict:\n",
    "            t_dict[letter] += 1\n",
    "        else:\n",
    "            t_dict[letter] = 1\n",
    "    print(t_dict)\n",
    "\n",
    "    print(s_dict.items() == t_dict.items())\n",
    "\n",
    "isAnagram(\"anagram\", \"nagaram\")"
   ]
  },
  {
   "cell_type": "code",
   "execution_count": null,
   "metadata": {},
   "outputs": [],
   "source": [
    "class Solution:\n",
    "    def isAnagram(self, s: str, t: str) -> bool:\n",
    "        s_dict = {}\n",
    "        t_dict = {}\n",
    "\n",
    "        for letter in s:\n",
    "            if letter in s_dict:\n",
    "                s_dict[letter] += 1\n",
    "            else:\n",
    "                s_dict[letter] = 1\n",
    "\n",
    "        for letter in t:\n",
    "            if letter in t_dict:\n",
    "                t_dict[letter] += 1\n",
    "            else:\n",
    "                t_dict[letter] = 1\n",
    "\n",
    "        return s_dict.items() == t_dict.items()"
   ]
  },
  {
   "cell_type": "code",
   "execution_count": null,
   "metadata": {},
   "outputs": [],
   "source": [
    "class Solution:\n",
    "    def isAnagram(self, s: str, t: str) -> bool:\n",
    "        if len(s) != len(t):\n",
    "            return False\n",
    "\n",
    "        s_dict = {}\n",
    "        t_dict = {}\n",
    "\n",
    "        for letter in s:\n",
    "            if letter in s_dict:\n",
    "                s_dict[letter] += 1\n",
    "            else:\n",
    "                s_dict[letter] = 1\n",
    "\n",
    "        for letter in t:\n",
    "            if letter in t_dict:\n",
    "                t_dict[letter] += 1\n",
    "            else:\n",
    "                t_dict[letter] = 1\n",
    "\n",
    "        return s_dict.items() == t_dict.items()"
   ]
  }
 ],
 "metadata": {
  "kernelspec": {
   "display_name": "Python 3",
   "language": "python",
   "name": "python3"
  },
  "language_info": {
   "codemirror_mode": {
    "name": "ipython",
    "version": 3
   },
   "file_extension": ".py",
   "mimetype": "text/x-python",
   "name": "python",
   "nbconvert_exporter": "python",
   "pygments_lexer": "ipython3",
   "version": "3.9.6"
  }
 },
 "nbformat": 4,
 "nbformat_minor": 2
}
