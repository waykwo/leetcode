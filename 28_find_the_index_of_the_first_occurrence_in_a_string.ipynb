{
 "cells": [
  {
   "cell_type": "markdown",
   "metadata": {},
   "source": [
    "Given two strings needle and haystack, return the index of the first occurrence of needle in haystack, or -1 if needle is not part of haystack.\n",
    "\n",
    "Example 1:\n",
    "\n",
    "Input: haystack = \"sadbutsad\", needle = \"sad\"\n",
    "Output: 0\n",
    "Explanation: \"sad\" occurs at index 0 and 6.\n",
    "The first occurrence is at index 0, so we return 0.\n",
    "Example 2:\n",
    "\n",
    "Input: haystack = \"leetcode\", needle = \"leeto\"\n",
    "Output: -1\n",
    "Explanation: \"leeto\" did not occur in \"leetcode\", so we return -1.\n",
    " \n",
    "\n",
    "Constraints:\n",
    "\n",
    "1 <= haystack.length, needle.length <= 10^4\n",
    "haystack and needle consist of only lowercase English characters."
   ]
  },
  {
   "cell_type": "code",
   "execution_count": 5,
   "metadata": {},
   "outputs": [
    {
     "name": "stdout",
     "output_type": "stream",
     "text": [
      "True\n",
      "3\n",
      "sad\n",
      "True\n"
     ]
    }
   ],
   "source": [
    "haystack = \"sadbutsad\"\n",
    "needle = \"sad\"\n",
    "\n",
    "print(needle in haystack)\n",
    "print(len(needle))\n",
    "print(haystack[0:3])\n",
    "\n",
    "needle_length = len(needle)\n",
    "print(needle == haystack[0:needle_length])"
   ]
  },
  {
   "cell_type": "code",
   "execution_count": 7,
   "metadata": {},
   "outputs": [
    {
     "data": {
      "text/plain": [
       "'t'"
      ]
     },
     "execution_count": 7,
     "metadata": {},
     "output_type": "execute_result"
    }
   ],
   "source": [
    "haystack[5]"
   ]
  },
  {
   "cell_type": "code",
   "execution_count": 21,
   "metadata": {},
   "outputs": [
    {
     "name": "stdout",
     "output_type": "stream",
     "text": [
      "0\n"
     ]
    }
   ],
   "source": [
    "haystack = \"sabbutsad\"\n",
    "needle = \"sad\"\n",
    "needle_length = len(needle)\n",
    "i = 0\n",
    "\n",
    "while (i < (len(haystack) - needle_length + 1)) and (not needle_index):\n",
    "    if needle == haystack[i:needle_length]:\n",
    "        needle_index = i\n",
    "        print(needle_index)\n",
    "    else:\n",
    "        i += 1\n",
    "\n",
    "print(needle_index)\n",
    "    "
   ]
  },
  {
   "cell_type": "code",
   "execution_count": 12,
   "metadata": {},
   "outputs": [
    {
     "name": "stdout",
     "output_type": "stream",
     "text": [
      "2: 0\n",
      "Final: 0\n"
     ]
    }
   ],
   "source": [
    "haystack = \"sadbutsad\"\n",
    "needle = \"sad\"\n",
    "needle_length = len(needle)\n",
    "i = 0\n",
    "\n",
    "if (needle_length > len(haystack)) or (needle not in haystack):\n",
    "    needle_index = -1\n",
    "    print(f\"1: {needle_index}\")\n",
    "\n",
    "while i < (len(haystack) - needle_length + 1):\n",
    "    if needle == haystack[i:i + needle_length]:\n",
    "        needle_index = i\n",
    "        print(f\"2: {needle_index}\")\n",
    "        break\n",
    "    else:\n",
    "        i += 1\n",
    "        print(f\"i: {i}\")\n",
    "\n",
    "print(f\"Final: {needle_index}\")\n"
   ]
  },
  {
   "cell_type": "code",
   "execution_count": null,
   "metadata": {},
   "outputs": [],
   "source": [
    "class Solution:\n",
    "    def strStr(self, haystack: str, needle: str) -> int:\n",
    "        needle_length = len(self.needle)\n",
    "        i = 0\n",
    "\n",
    "        if (needle_length > len(haystack)) or (needle not in haystack):\n",
    "            needle_index = -1\n",
    "            return needle_index\n",
    "\n",
    "        while i < (len(haystack) - needle_length + 1):\n",
    "            if needle == haystack[i:i + needle_length]:\n",
    "                needle_index = i\n",
    "                return needle_index\n",
    "                break\n",
    "            else:\n",
    "                i += 1"
   ]
  },
  {
   "cell_type": "code",
   "execution_count": null,
   "metadata": {},
   "outputs": [],
   "source": [
    "# Alt\n",
    "class Solution:\n",
    "    def strStr(self, haystack: str, needle: str) -> int:\n",
    "        m, n = len(haystack), len(needle)\n",
    "        for i in range(m - n + 1):\n",
    "            if haystack[i:i + n] == needle:\n",
    "                return i\n",
    "        return -1"
   ]
  }
 ],
 "metadata": {
  "kernelspec": {
   "display_name": "Python 3",
   "language": "python",
   "name": "python3"
  },
  "language_info": {
   "codemirror_mode": {
    "name": "ipython",
    "version": 3
   },
   "file_extension": ".py",
   "mimetype": "text/x-python",
   "name": "python",
   "nbconvert_exporter": "python",
   "pygments_lexer": "ipython3",
   "version": "3.9.6"
  }
 },
 "nbformat": 4,
 "nbformat_minor": 2
}
